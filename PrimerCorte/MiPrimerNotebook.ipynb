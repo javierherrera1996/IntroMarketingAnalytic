{
  "nbformat": 4,
  "nbformat_minor": 0,
  "metadata": {
    "colab": {
      "provenance": []
    },
    "kernelspec": {
      "name": "python3",
      "display_name": "Python 3"
    },
    "language_info": {
      "name": "python"
    }
  },
  "cells": [
    {
      "cell_type": "markdown",
      "source": [
        "#Mi primer Notebook"
      ],
      "metadata": {
        "id": "cgsMhbpms4QM"
      }
    },
    {
      "cell_type": "markdown",
      "source": [
        "##Seccion 1"
      ],
      "metadata": {
        "id": "l7qp9FH0tZ4T"
      }
    },
    {
      "cell_type": "code",
      "execution_count": 5,
      "metadata": {
        "colab": {
          "base_uri": "https://localhost:8080/"
        },
        "id": "EzzZ3ZQdsgZv",
        "outputId": "9573b7f4-a4f7-407f-eeef-ba6311ed38f5"
      },
      "outputs": [
        {
          "output_type": "execute_result",
          "data": {
            "text/plain": [
              "4"
            ]
          },
          "metadata": {},
          "execution_count": 5
        }
      ],
      "source": [
        "2+2"
      ]
    },
    {
      "cell_type": "code",
      "source": [
        "print(\"Hola Mundo\")"
      ],
      "metadata": {
        "colab": {
          "base_uri": "https://localhost:8080/"
        },
        "id": "Sla_lII_tHKn",
        "outputId": "f4b05dc4-06e1-458b-ae20-c111902abdaf"
      },
      "execution_count": 7,
      "outputs": [
        {
          "output_type": "stream",
          "name": "stdout",
          "text": [
            "Hola Mundo\n"
          ]
        }
      ]
    }
  ]
}